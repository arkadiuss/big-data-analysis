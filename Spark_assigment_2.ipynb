{
 "cells": [
  {
   "cell_type": "code",
   "execution_count": 1,
   "id": "bbcc14b3",
   "metadata": {},
   "outputs": [
    {
     "name": "stderr",
     "output_type": "stream",
     "text": [
      "WARNING: An illegal reflective access operation has occurred\n",
      "WARNING: Illegal reflective access by org.apache.spark.unsafe.Platform (file:/usr/local/spark-3.1.2-bin-hadoop3.2/jars/spark-unsafe_2.12-3.1.2.jar) to constructor java.nio.DirectByteBuffer(long,int)\n",
      "WARNING: Please consider reporting this to the maintainers of org.apache.spark.unsafe.Platform\n",
      "WARNING: Use --illegal-access=warn to enable warnings of further illegal reflective access operations\n",
      "WARNING: All illegal access operations will be denied in a future release\n",
      "21/10/31 22:11:59 WARN NativeCodeLoader: Unable to load native-hadoop library for your platform... using builtin-java classes where applicable\n",
      "Using Spark's default log4j profile: org/apache/spark/log4j-defaults.properties\n",
      "Setting default log level to \"WARN\".\n",
      "To adjust logging level use sc.setLogLevel(newLevel). For SparkR, use setLogLevel(newLevel).\n"
     ]
    }
   ],
   "source": [
    "import pandas as pd\n",
    "import numpy as np\n",
    "import matplotlib.pyplot as plt\n",
    "\n",
    "from pyspark.sql import SparkSession\n",
    "from pyspark.sql.functions import col, asc, desc, regexp_replace, translate, udf, array\n",
    "from pyspark.sql.types import StringType\n",
    "\n",
    "\n",
    "spark = SparkSession.builder.getOrCreate()"
   ]
  },
  {
   "cell_type": "markdown",
   "id": "3e574a0b",
   "metadata": {},
   "source": [
    "### Countries data preparation"
   ]
  },
  {
   "cell_type": "code",
   "execution_count": 2,
   "id": "98c6aeec",
   "metadata": {},
   "outputs": [
    {
     "data": {
      "text/plain": [
       "DataFrame[Country: string, Region: string, Population: int, Area (sq km): int, Pop Density (per sq km): float, Coastline (coast/area ratio): string, Net migration: string, Infant mortality (per 1000 births): float, GDP ($ per capita): int, Literacy (%): float, Phones (per 1000): string, Arable (%): string, Crops (%): string, Other (%): string, Climate: string, Birthrate: string, Deathrate: string, Agriculture: string, Industry: string, Service: string]"
      ]
     },
     "execution_count": 2,
     "metadata": {},
     "output_type": "execute_result"
    }
   ],
   "source": [
    "df_countries = spark.read.csv('data/countries of the world.csv',header=True, inferSchema=\"true\")\n",
    "\n",
    "# mistake in data (values are in meters instead of miles)\n",
    "df_countries = df_countries.withColumnRenamed('Pop. Density (per sq. mi.)', 'Pop Density (per sq km)')\n",
    "df_countries = df_countries.withColumnRenamed('Area (sq. mi.)', 'Area (sq km)')\n",
    "# task 4 (empty line at the end of the name)\n",
    "df_countries = df_countries.withColumn('Country', regexp_replace('Country', '\\s+$', ''))\n",
    "df_countries = df_countries.withColumn('Region', regexp_replace('Region', '\\s+$', ''))\n",
    "\n",
    "to_float_columns = ['Infant mortality (per 1000 births)', 'Literacy (%)', 'Pop Density (per sq km)']\n",
    "for fc in to_float_columns:\n",
    "    df_countries = df_countries.withColumn(fc, regexp_replace(fc, '\\\\,', '\\\\.').cast(\"float\"))\n",
    "\n",
    "df_countries"
   ]
  },
  {
   "cell_type": "code",
   "execution_count": 3,
   "id": "a83e46c9",
   "metadata": {},
   "outputs": [
    {
     "data": {
      "text/plain": [
       "Row(Country='Afghanistan', Region='ASIA (EX. NEAR EAST)', Population=31056997, Area (sq km)=647500, Pop Density (per sq km)=48.0, Coastline (coast/area ratio)='0,00', Net migration='23,06', Infant mortality (per 1000 births)=163.07000732421875, GDP ($ per capita)=700, Literacy (%)=36.0, Phones (per 1000)='3,2', Arable (%)='12,13', Crops (%)='0,22', Other (%)='87,65', Climate='1', Birthrate='46,6', Deathrate='20,34', Agriculture='0,38', Industry='0,24', Service='0,38')"
      ]
     },
     "execution_count": 3,
     "metadata": {},
     "output_type": "execute_result"
    }
   ],
   "source": [
    "df_countries.head()"
   ]
  },
  {
   "cell_type": "markdown",
   "id": "a116feac",
   "metadata": {},
   "source": [
    "### Airports data preparation"
   ]
  },
  {
   "cell_type": "code",
   "execution_count": 4,
   "id": "13ee37b6",
   "metadata": {},
   "outputs": [
    {
     "data": {
      "text/plain": [
       "DataFrame[_c0: int, _c1: string, _c2: string, _c3: string, _c4: string, _c5: string, _c6: double, _c7: double, _c8: int, _c9: string, _c10: string, _c11: string, _c12: string, _c13: string]"
      ]
     },
     "execution_count": 4,
     "metadata": {},
     "output_type": "execute_result"
    }
   ],
   "source": [
    "df_airports = spark.read.csv('data/airports.csv', header=False, inferSchema=\"true\")\n",
    "df_airports"
   ]
  },
  {
   "cell_type": "code",
   "execution_count": 5,
   "id": "381b1fd7",
   "metadata": {},
   "outputs": [
    {
     "name": "stdout",
     "output_type": "stream",
     "text": [
      "Renaming _c0 to Airport ID.\n",
      "Renaming _c1 to Name.\n",
      "Renaming _c2 to City.\n",
      "Renaming _c3 to Country.\n",
      "Renaming _c4 to IATA.\n",
      "Renaming _c5 to ICAO.\n",
      "Renaming _c6 to Latitude.\n",
      "Renaming _c7 to Longitude.\n",
      "Renaming _c8 to Altitude.\n",
      "Renaming _c9 to Timezone.\n",
      "Renaming _c10 to DST.\n",
      "Renaming _c11 to Tz database time zone.\n",
      "Renaming _c12 to Type.\n",
      "Renaming _c13 to Source.\n"
     ]
    },
    {
     "data": {
      "text/plain": [
       "Row(Airport ID=1, Name='Goroka Airport', City='Goroka', Country='Papua New Guinea', IATA='GKA', ICAO='AYGA', Latitude=-6.081689834590001, Longitude=145.391998291, Altitude=5282, Timezone='10', DST='U', Tz database time zone='Pacific/Port_Moresby', Type='airport', Source='OurAirports')"
      ]
     },
     "execution_count": 5,
     "metadata": {},
     "output_type": "execute_result"
    }
   ],
   "source": [
    "airports_columns_names = [\n",
    "    'Airport ID', \n",
    "    'Name', \n",
    "    'City', \n",
    "    'Country',\n",
    "    'IATA', \n",
    "    'ICAO', \n",
    "    'Latitude', \n",
    "    'Longitude', \n",
    "    'Altitude', \n",
    "    'Timezone', \n",
    "    'DST', \n",
    "    'Tz database time zone', \n",
    "    'Type', \n",
    "    'Source'\n",
    "]\n",
    "\n",
    "for col_old, col_new in zip(df_airports.schema.names, airports_columns_names):\n",
    "    print(f'Renaming {col_old} to {col_new}.')\n",
    "    df_airports = df_airports.withColumnRenamed(col_old, col_new)\n",
    "    \n",
    "df_airports.head()"
   ]
  },
  {
   "cell_type": "markdown",
   "id": "387a6950",
   "metadata": {},
   "source": [
    "### Task 1\n",
    "\n",
    "Narysuj wykres zależności kolumn Plot Infant mortality vs. Literacy dla 30 najbogatszych i 30 najbiedniejszych krajów"
   ]
  },
  {
   "cell_type": "code",
   "execution_count": 6,
   "id": "47c9cba2",
   "metadata": {},
   "outputs": [
    {
     "data": {
      "text/html": [
       "<div>\n",
       "<style scoped>\n",
       "    .dataframe tbody tr th:only-of-type {\n",
       "        vertical-align: middle;\n",
       "    }\n",
       "\n",
       "    .dataframe tbody tr th {\n",
       "        vertical-align: top;\n",
       "    }\n",
       "\n",
       "    .dataframe thead th {\n",
       "        text-align: right;\n",
       "    }\n",
       "</style>\n",
       "<table border=\"1\" class=\"dataframe\">\n",
       "  <thead>\n",
       "    <tr style=\"text-align: right;\">\n",
       "      <th></th>\n",
       "      <th>Country</th>\n",
       "      <th>Infant Mortality</th>\n",
       "      <th>Literacy</th>\n",
       "    </tr>\n",
       "  </thead>\n",
       "  <tbody>\n",
       "    <tr>\n",
       "      <th>0</th>\n",
       "      <td>Luxembourg</td>\n",
       "      <td>4.81</td>\n",
       "      <td>100.000000</td>\n",
       "    </tr>\n",
       "    <tr>\n",
       "      <th>1</th>\n",
       "      <td>Norway</td>\n",
       "      <td>3.70</td>\n",
       "      <td>100.000000</td>\n",
       "    </tr>\n",
       "    <tr>\n",
       "      <th>2</th>\n",
       "      <td>United States</td>\n",
       "      <td>6.50</td>\n",
       "      <td>97.000000</td>\n",
       "    </tr>\n",
       "    <tr>\n",
       "      <th>3</th>\n",
       "      <td>Bermuda</td>\n",
       "      <td>8.53</td>\n",
       "      <td>98.000000</td>\n",
       "    </tr>\n",
       "    <tr>\n",
       "      <th>4</th>\n",
       "      <td>Cayman Islands</td>\n",
       "      <td>8.19</td>\n",
       "      <td>98.000000</td>\n",
       "    </tr>\n",
       "    <tr>\n",
       "      <th>5</th>\n",
       "      <td>San Marino</td>\n",
       "      <td>5.73</td>\n",
       "      <td>96.000000</td>\n",
       "    </tr>\n",
       "    <tr>\n",
       "      <th>6</th>\n",
       "      <td>Switzerland</td>\n",
       "      <td>4.39</td>\n",
       "      <td>99.000000</td>\n",
       "    </tr>\n",
       "    <tr>\n",
       "      <th>7</th>\n",
       "      <td>Denmark</td>\n",
       "      <td>4.56</td>\n",
       "      <td>100.000000</td>\n",
       "    </tr>\n",
       "    <tr>\n",
       "      <th>8</th>\n",
       "      <td>Iceland</td>\n",
       "      <td>3.31</td>\n",
       "      <td>99.900002</td>\n",
       "    </tr>\n",
       "    <tr>\n",
       "      <th>9</th>\n",
       "      <td>Austria</td>\n",
       "      <td>4.66</td>\n",
       "      <td>98.000000</td>\n",
       "    </tr>\n",
       "    <tr>\n",
       "      <th>10</th>\n",
       "      <td>Canada</td>\n",
       "      <td>4.75</td>\n",
       "      <td>97.000000</td>\n",
       "    </tr>\n",
       "    <tr>\n",
       "      <th>11</th>\n",
       "      <td>Ireland</td>\n",
       "      <td>5.39</td>\n",
       "      <td>98.000000</td>\n",
       "    </tr>\n",
       "    <tr>\n",
       "      <th>12</th>\n",
       "      <td>Belgium</td>\n",
       "      <td>4.68</td>\n",
       "      <td>98.000000</td>\n",
       "    </tr>\n",
       "    <tr>\n",
       "      <th>13</th>\n",
       "      <td>Australia</td>\n",
       "      <td>4.69</td>\n",
       "      <td>100.000000</td>\n",
       "    </tr>\n",
       "    <tr>\n",
       "      <th>14</th>\n",
       "      <td>Hong Kong</td>\n",
       "      <td>2.97</td>\n",
       "      <td>93.500000</td>\n",
       "    </tr>\n",
       "    <tr>\n",
       "      <th>15</th>\n",
       "      <td>Netherlands</td>\n",
       "      <td>5.04</td>\n",
       "      <td>99.000000</td>\n",
       "    </tr>\n",
       "    <tr>\n",
       "      <th>16</th>\n",
       "      <td>Japan</td>\n",
       "      <td>3.26</td>\n",
       "      <td>99.000000</td>\n",
       "    </tr>\n",
       "    <tr>\n",
       "      <th>17</th>\n",
       "      <td>Aruba</td>\n",
       "      <td>5.89</td>\n",
       "      <td>97.000000</td>\n",
       "    </tr>\n",
       "    <tr>\n",
       "      <th>18</th>\n",
       "      <td>United Kingdom</td>\n",
       "      <td>5.16</td>\n",
       "      <td>99.000000</td>\n",
       "    </tr>\n",
       "    <tr>\n",
       "      <th>19</th>\n",
       "      <td>France</td>\n",
       "      <td>4.26</td>\n",
       "      <td>99.000000</td>\n",
       "    </tr>\n",
       "    <tr>\n",
       "      <th>20</th>\n",
       "      <td>Germany</td>\n",
       "      <td>4.16</td>\n",
       "      <td>99.000000</td>\n",
       "    </tr>\n",
       "    <tr>\n",
       "      <th>21</th>\n",
       "      <td>Finland</td>\n",
       "      <td>3.57</td>\n",
       "      <td>100.000000</td>\n",
       "    </tr>\n",
       "    <tr>\n",
       "      <th>22</th>\n",
       "      <td>Monaco</td>\n",
       "      <td>5.43</td>\n",
       "      <td>99.000000</td>\n",
       "    </tr>\n",
       "    <tr>\n",
       "      <th>23</th>\n",
       "      <td>Sweden</td>\n",
       "      <td>2.77</td>\n",
       "      <td>99.000000</td>\n",
       "    </tr>\n",
       "    <tr>\n",
       "      <th>24</th>\n",
       "      <td>Italy</td>\n",
       "      <td>5.94</td>\n",
       "      <td>98.599998</td>\n",
       "    </tr>\n",
       "    <tr>\n",
       "      <th>25</th>\n",
       "      <td>Liechtenstein</td>\n",
       "      <td>4.70</td>\n",
       "      <td>100.000000</td>\n",
       "    </tr>\n",
       "    <tr>\n",
       "      <th>26</th>\n",
       "      <td>Singapore</td>\n",
       "      <td>2.29</td>\n",
       "      <td>92.500000</td>\n",
       "    </tr>\n",
       "    <tr>\n",
       "      <th>27</th>\n",
       "      <td>Taiwan</td>\n",
       "      <td>6.40</td>\n",
       "      <td>96.099998</td>\n",
       "    </tr>\n",
       "    <tr>\n",
       "      <th>28</th>\n",
       "      <td>United Arab Emirates</td>\n",
       "      <td>14.51</td>\n",
       "      <td>77.900002</td>\n",
       "    </tr>\n",
       "    <tr>\n",
       "      <th>29</th>\n",
       "      <td>Spain</td>\n",
       "      <td>4.42</td>\n",
       "      <td>97.900002</td>\n",
       "    </tr>\n",
       "  </tbody>\n",
       "</table>\n",
       "</div>"
      ],
      "text/plain": [
       "                 Country  Infant Mortality    Literacy\n",
       "0             Luxembourg              4.81  100.000000\n",
       "1                 Norway              3.70  100.000000\n",
       "2          United States              6.50   97.000000\n",
       "3                Bermuda              8.53   98.000000\n",
       "4         Cayman Islands              8.19   98.000000\n",
       "5             San Marino              5.73   96.000000\n",
       "6            Switzerland              4.39   99.000000\n",
       "7                Denmark              4.56  100.000000\n",
       "8                Iceland              3.31   99.900002\n",
       "9                Austria              4.66   98.000000\n",
       "10                Canada              4.75   97.000000\n",
       "11               Ireland              5.39   98.000000\n",
       "12               Belgium              4.68   98.000000\n",
       "13             Australia              4.69  100.000000\n",
       "14             Hong Kong              2.97   93.500000\n",
       "15           Netherlands              5.04   99.000000\n",
       "16                 Japan              3.26   99.000000\n",
       "17                 Aruba              5.89   97.000000\n",
       "18        United Kingdom              5.16   99.000000\n",
       "19                France              4.26   99.000000\n",
       "20               Germany              4.16   99.000000\n",
       "21               Finland              3.57  100.000000\n",
       "22                Monaco              5.43   99.000000\n",
       "23                Sweden              2.77   99.000000\n",
       "24                 Italy              5.94   98.599998\n",
       "25         Liechtenstein              4.70  100.000000\n",
       "26             Singapore              2.29   92.500000\n",
       "27                Taiwan              6.40   96.099998\n",
       "28  United Arab Emirates             14.51   77.900002\n",
       "29                 Spain              4.42   97.900002"
      ]
     },
     "execution_count": 6,
     "metadata": {},
     "output_type": "execute_result"
    }
   ],
   "source": [
    "richest_countries = df_countries.sort(desc(\"GDP ($ per capita)\"))\\\n",
    "    .select(col(\"Country\"), col(\"Infant mortality (per 1000 births)\"), col(\"Literacy (%)\"))\\\n",
    "    .where(col(\"Literacy (%)\").isNotNull())\\\n",
    "    .head(30)\n",
    "\n",
    "df_richest = pd.DataFrame(richest_countries,columns=[\"Country\", \"Infant Mortality\", \"Literacy\"])\n",
    "\n",
    "df_richest"
   ]
  },
  {
   "cell_type": "code",
   "execution_count": 7,
   "id": "379383cb",
   "metadata": {},
   "outputs": [
    {
     "data": {
      "text/plain": [
       "<AxesSubplot:xlabel='Infant Mortality', ylabel='Literacy'>"
      ]
     },
     "execution_count": 7,
     "metadata": {},
     "output_type": "execute_result"
    },
    {
     "data": {
      "image/png": "[encoded data removed]",
      "text/plain": [
       "<Figure size 1080x504 with 1 Axes>"
      ]
     },
     "metadata": {
      "needs_background": "light"
     },
     "output_type": "display_data"
    }
   ],
   "source": [
    "df_richest.plot.scatter(x=\"Infant Mortality\", y=\"Literacy\",figsize=(15,7))"
   ]
  },
  {
   "cell_type": "markdown",
   "id": "299eacac",
   "metadata": {},
   "source": [
    "### Task 2\n",
    "\n",
    "Wczytaj zbiór danych \"airports.csv\" ze strony https://www.kaggle.com/jonatancr/airports (zawiera on dane na temat lotnisk z całego świata). Ponieważ w zbiorze tym nie ma nagłówka, nadaj własne nazwy kolumnom, korzystając z opisu pliku na stronie https://openflights.org/data.html. Narysuj na wykresie (mapie) położenia wszystkich/wybranych lotnisk."
   ]
  },
  {
   "cell_type": "code",
   "execution_count": 8,
   "id": "96369292",
   "metadata": {},
   "outputs": [
    {
     "data": {
      "text/plain": [
       "<AxesSubplot:xlabel='Longitude', ylabel='Latitude'>"
      ]
     },
     "execution_count": 8,
     "metadata": {},
     "output_type": "execute_result"
    },
    {
     "data": {
      "image/png": "[encoded data removed]",
      "text/plain": [
       "<Figure size 1080x504 with 1 Axes>"
      ]
     },
     "metadata": {
      "needs_background": "light"
     },
     "output_type": "display_data"
    }
   ],
   "source": [
    "df_airports.select(col(\"Latitude\"), col(\"Longitude\"))\\\n",
    "    .toPandas()\\\n",
    "    .plot.scatter(x=\"Longitude\", y=\"Latitude\",figsize=(15,7))"
   ]
  },
  {
   "cell_type": "markdown",
   "id": "a64fbfc7",
   "metadata": {},
   "source": [
    "### Task 3\n",
    "Utwórz dwie nowe kolumny w ramce \"Countries\", w których powierzchnia i gęstość zaludnienia wyrażone sa odpowiednio w milach kwadratowych i osobach na milę kwadratową"
   ]
  },
  {
   "cell_type": "code",
   "execution_count": 9,
   "id": "173b4453",
   "metadata": {},
   "outputs": [],
   "source": [
    "#  'Area (sq mi)' oraz 'Pop Density (per sq mi)'\n",
    "df_countries = df_countries.withColumn('Area (sq mi)', col('Area (sq km)')/2.59)\n",
    "df_countries = df_countries.withColumn('Pop Density (per sq mi)', col('Pop Density (per sq km)')*2.59)"
   ]
  },
  {
   "cell_type": "code",
   "execution_count": 10,
   "id": "a39d2a11",
   "metadata": {},
   "outputs": [
    {
     "data": {
      "text/plain": [
       "Row(Country='Afghanistan', Region='ASIA (EX. NEAR EAST)', Population=31056997, Area (sq km)=647500, Pop Density (per sq km)=48.0, Coastline (coast/area ratio)='0,00', Net migration='23,06', Infant mortality (per 1000 births)=163.07000732421875, GDP ($ per capita)=700, Literacy (%)=36.0, Phones (per 1000)='3,2', Arable (%)='12,13', Crops (%)='0,22', Other (%)='87,65', Climate='1', Birthrate='46,6', Deathrate='20,34', Agriculture='0,38', Industry='0,24', Service='0,38', Area (sq mi)=250000.0, Pop Density (per sq mi)=124.32)"
      ]
     },
     "execution_count": 10,
     "metadata": {},
     "output_type": "execute_result"
    }
   ],
   "source": [
    "df_countries.head()"
   ]
  },
  {
   "cell_type": "markdown",
   "id": "256d03dc",
   "metadata": {},
   "source": [
    "### Task 4\n",
    "Na wykresie scatterplot narysuj zależność liczby lotnisk od powierzchni kraju."
   ]
  },
  {
   "cell_type": "markdown",
   "id": "799f1812",
   "metadata": {},
   "source": [
    "#### Data unification"
   ]
  },
  {
   "cell_type": "code",
   "execution_count": 11,
   "id": "b0433b49",
   "metadata": {},
   "outputs": [],
   "source": [
    "def check_not_matching_countries(df_countries,  df_airports):\n",
    "    country_pairs = df_airports.join(df_countries,  df_airports.Country == df_countries.Country, 'outer')\\\n",
    "        .select(df_airports.Country.alias(\"AirportCountry\"), df_countries.Country)\\\n",
    "\n",
    "    matching_countries = country_pairs\\\n",
    "        .where(col('AirportCountry').isNotNull() & col('Country').isNotNull())\\\n",
    "        .distinct()\\\n",
    "        .count()\n",
    "\n",
    "\n",
    "    not_matching_countries = country_pairs.where(col('AirportCountry').isNull() | col('Country').isNull())\\\n",
    "        .distinct()\n",
    "\n",
    "    airtport_countries_names = not_matching_countries.select(col('AirportCountry'))\\\n",
    "        .where(col('AirportCountry').isNotNull())\\\n",
    "        .sort(asc('AirportCountry'))\\\n",
    "        .collect()\n",
    "    countries_names = not_matching_countries.select(col('Country'))\\\n",
    "        .where(col('Country').isNotNull())\\\n",
    "        .sort(asc('Country'))\\\n",
    "        .collect() \n",
    "    \n",
    "    return matching_countries, airtport_countries_names, countries_names"
   ]
  },
  {
   "cell_type": "code",
   "execution_count": 12,
   "id": "1b40838d",
   "metadata": {},
   "outputs": [
    {
     "name": "stderr",
     "output_type": "stream",
     "text": [
      "                                                                                \r"
     ]
    },
    {
     "name": "stdout",
     "output_type": "stream",
     "text": [
      "Number of matching countries 205\n",
      "[Row(AirportCountry='Antarctica'), Row(AirportCountry='Antigua and Barbuda'), Row(AirportCountry='Bahamas'), Row(AirportCountry='Bosnia and Herzegovina'), Row(AirportCountry='British Indian Ocean Territory'), Row(AirportCountry='British Virgin Islands'), Row(AirportCountry='Central African Republic'), Row(AirportCountry='Christmas Island'), Row(AirportCountry='Cocos (Keeling) Islands'), Row(AirportCountry='Congo (Brazzaville)'), Row(AirportCountry='Congo (Kinshasa)'), Row(AirportCountry='Falkland Islands'), Row(AirportCountry='Gambia'), Row(AirportCountry='Johnston Atoll'), Row(AirportCountry='Micronesia'), Row(AirportCountry='Midway Islands'), Row(AirportCountry='Montenegro'), Row(AirportCountry='Myanmar'), Row(AirportCountry='Niue'), Row(AirportCountry='Norfolk Island'), Row(AirportCountry='North Korea'), Row(AirportCountry='Northern Mariana Islands'), Row(AirportCountry='Palestine'), Row(AirportCountry='Saint Kitts and Nevis'), Row(AirportCountry='Saint Pierre and Miquelon'), Row(AirportCountry='Sao Tome and Principe'), Row(AirportCountry='South Korea'), Row(AirportCountry='South Sudan'), Row(AirportCountry='Svalbard'), Row(AirportCountry='Trinidad and Tobago'), Row(AirportCountry='Turks and Caicos Islands'), Row(AirportCountry='Wake Island')]\n",
      "[Row(Country='Andorra'), Row(Country='Antigua & Barbuda'), Row(Country='Bahamas, The'), Row(Country='Bosnia & Herzegovina'), Row(Country='British Virgin Is.'), Row(Country='Central African Rep.'), Row(Country='Congo, Dem. Rep.'), Row(Country='Congo, Repub. of the'), Row(Country='Gambia, The'), Row(Country='Gaza Strip'), Row(Country='Korea, North'), Row(Country='Korea, South'), Row(Country='Liechtenstein'), Row(Country='Micronesia, Fed. St.'), Row(Country='Monaco'), Row(Country='N. Mariana Islands'), Row(Country='Saint Kitts & Nevis'), Row(Country='San Marino'), Row(Country='Sao Tome & Principe'), Row(Country='St Pierre & Miquelon'), Row(Country='Trinidad & Tobago'), Row(Country='Turks & Caicos Is')]\n"
     ]
    },
    {
     "name": "stderr",
     "output_type": "stream",
     "text": [
      "                                                                                \r"
     ]
    }
   ],
   "source": [
    "matching_countries, airtport_countries_names,countries_names = check_not_matching_countries(df_countries,  df_airports)\n",
    "print(f'Number of matching countries {matching_countries}')\n",
    "print(airtport_countries_names)\n",
    "print(countries_names)"
   ]
  },
  {
   "cell_type": "code",
   "execution_count": 13,
   "id": "dd6d1387",
   "metadata": {},
   "outputs": [],
   "source": [
    "country_mappings = {\n",
    "    'Antigua and Barbuda': 'Antigua & Barbuda',\n",
    "    'Bahamas': 'Bahamas, The',\n",
    "    'Bosnia and Herzegovina': 'Bosnia & Herzegovina',\n",
    "    'North Korea': 'Korea, North',\n",
    "    'Micronesia': 'Micronesia, Fed. St.',\n",
    "    'South Korea': 'Korea, South'\n",
    "}"
   ]
  },
  {
   "cell_type": "code",
   "execution_count": 14,
   "id": "bb6b179a",
   "metadata": {},
   "outputs": [
    {
     "data": {
      "text/plain": [
       "Row(Airport ID=1, Name='Goroka Airport', City='Goroka', Country='Papua New Guinea', IATA='GKA', ICAO='AYGA', Latitude=-6.081689834590001, Longitude=145.391998291, Altitude=5282, Timezone='10', DST='U', Tz database time zone='Pacific/Port_Moresby', Type='airport', Source='OurAirports')"
      ]
     },
     "execution_count": 14,
     "metadata": {},
     "output_type": "execute_result"
    }
   ],
   "source": [
    "df_airports = df_airports.na.replace(country_mappings)\n",
    "df_airports.head()"
   ]
  },
  {
   "cell_type": "code",
   "execution_count": 15,
   "id": "f5ab4bff",
   "metadata": {},
   "outputs": [
    {
     "name": "stderr",
     "output_type": "stream",
     "text": [
      "                                                                                \r"
     ]
    },
    {
     "name": "stdout",
     "output_type": "stream",
     "text": [
      "Number of matching countries after change 211\n"
     ]
    }
   ],
   "source": [
    "matching_countries_after_change, _, _ = check_not_matching_countries(df_countries,  df_airports)\n",
    "print(f'Number of matching countries after change {matching_countries_after_change}')"
   ]
  },
  {
   "cell_type": "markdown",
   "id": "910aa28f",
   "metadata": {},
   "source": [
    "#### Plot"
   ]
  },
  {
   "cell_type": "code",
   "execution_count": 16,
   "id": "4034fcb3",
   "metadata": {},
   "outputs": [
    {
     "data": {
      "image/png": "[encoded data removed]",
      "text/plain": [
       "<Figure size 1080x504 with 1 Axes>"
      ]
     },
     "metadata": {
      "needs_background": "light"
     },
     "output_type": "display_data"
    }
   ],
   "source": [
    "count_by_country = df_airports.join(df_countries,  df_airports.Country == df_countries.Country, 'inner')\\\n",
    "        .select(df_countries.Country, df_countries['Area (sq mi)'])\\\n",
    "        .groupBy([df_countries.Country, df_countries['Area (sq mi)']])\\\n",
    "        .count()\\\n",
    "        .toPandas()\\\n",
    "        .plot.scatter(x=\"Area (sq mi)\", y=\"count\",figsize=(15,7))"
   ]
  },
  {
   "cell_type": "markdown",
   "id": "8381cbe4",
   "metadata": {},
   "source": [
    "### Task 5\n",
    "\n",
    "Oblicz, ile lotnisk jest na poszczególnych kontynentach. To zadanie również wymaga złączenia ramek \"Countries\" i \"Airports\". Wynik przedstaw na wykresie słupkowym."
   ]
  },
  {
   "cell_type": "code",
   "execution_count": 17,
   "id": "510a36fe",
   "metadata": {},
   "outputs": [
    {
     "name": "stdout",
     "output_type": "stream",
     "text": [
      "+--------------------+\n",
      "|              Region|\n",
      "+--------------------+\n",
      "| C.W. OF IND. STATES|\n",
      "|      EASTERN EUROPE|\n",
      "|    NORTHERN AMERICA|\n",
      "|ASIA (EX. NEAR EAST)|\n",
      "|             OCEANIA|\n",
      "|      WESTERN EUROPE|\n",
      "|           NEAR EAST|\n",
      "|  SUB-SAHARAN AFRICA|\n",
      "|             BALTICS|\n",
      "| LATIN AMER. & CARIB|\n",
      "|     NORTHERN AFRICA|\n",
      "+--------------------+\n",
      "\n"
     ]
    }
   ],
   "source": [
    "df_countries.select(col('Region')).distinct().show()"
   ]
  },
  {
   "cell_type": "code",
   "execution_count": 18,
   "id": "aae085bd",
   "metadata": {},
   "outputs": [],
   "source": [
    "AFRICA = 'Africa'\n",
    "ASIA = 'Asia'\n",
    "EUROPE = 'Europe'\n",
    "N_AMERICA = 'North America'\n",
    "S_AMERICA = 'South America' \n",
    "ANTARCTICA = 'Antarctica'\n",
    "AUSTRALIA_OCEANIA = 'Australia/Oceania'\n",
    "\n",
    "continents = ['Africa', 'Asia', 'Europe', 'North America', 'South America', 'Antarctica', 'Australia/Oceania']\n",
    "\n",
    "def classify_region(country, region):\n",
    "    if region == 'C.W. OF IND. STATES':\n",
    "        if country == 'Belarus':\n",
    "            return EUROPE\n",
    "        else:\n",
    "            return ASIA\n",
    "    elif region in ['EASTERN EUROPE', 'WESTERN EUROPE', 'BALTICS']:\n",
    "        return EUROPE\n",
    "    elif region in ['NORTHERN AMERICA']:\n",
    "        return N_AMERICA\n",
    "    elif region in ['LATIN AMER. & CARIB']:\n",
    "        return S_AMERICA\n",
    "    elif region in ['SUB-SAHARAN AFRICA', 'NORTHERN AFRICA']:\n",
    "        return AFRICA\n",
    "    elif region in ['ASIA (EX. NEAR EAST)', 'NEAR EAST']:\n",
    "        return ASIA\n",
    "    elif region in ['OCEANIA']:\n",
    "        return AUSTRALIA_OCEANIA\n",
    "    \n",
    "    raise Exception(\"Unknown region\")"
   ]
  },
  {
   "cell_type": "code",
   "execution_count": 19,
   "id": "75c19402",
   "metadata": {},
   "outputs": [],
   "source": [
    "classify_region_udf = udf(lambda arr: classify_region(arr[0], arr[1]), StringType())"
   ]
  },
  {
   "cell_type": "code",
   "execution_count": 20,
   "id": "9da42ce7",
   "metadata": {},
   "outputs": [
    {
     "data": {
      "image/png": "[encoded data removed]",
      "text/plain": [
       "<Figure size 432x288 with 1 Axes>"
      ]
     },
     "metadata": {
      "needs_background": "light"
     },
     "output_type": "display_data"
    }
   ],
   "source": [
    "df_countries_continents = df_countries.withColumn('Continent', classify_region_udf(array('Country', 'Region')))\n",
    "\n",
    "count_by_continent = df_airports.join(df_countries_continents,  df_airports.Country == df_countries_continents.Country, 'inner')\\\n",
    "        .select(df_countries_continents.Continent)\\\n",
    "        .groupBy(df_countries_continents.Continent)\\\n",
    "        .count()\\\n",
    "        .toPandas()\\\n",
    "        .plot.bar(x='Continent', y='count')"
   ]
  },
  {
   "cell_type": "code",
   "execution_count": null,
   "id": "a6200872",
   "metadata": {},
   "outputs": [],
   "source": []
  }
 ],
 "metadata": {
  "kernelspec": {
   "display_name": "Python 3 (ipykernel)",
   "language": "python",
   "name": "python3"
  },
  "language_info": {
   "codemirror_mode": {
    "name": "ipython",
    "version": 3
   },
   "file_extension": ".py",
   "mimetype": "text/x-python",
   "name": "python",
   "nbconvert_exporter": "python",
   "pygments_lexer": "ipython3",
   "version": "3.9.7"
  }
 },
 "nbformat": 4,
 "nbformat_minor": 5
}
