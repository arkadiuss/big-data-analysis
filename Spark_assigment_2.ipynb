{
 "cells": [
  {
   "cell_type": "code",
   "execution_count": 15,
   "id": "bbcc14b3",
   "metadata": {},
   "outputs": [],
   "source": [
    "import pandas as pd\n",
    "import numpy as np\n",
    "import matplotlib.pyplot as plt\n",
    "\n",
    "from pyspark.sql import SparkSession\n",
    "from pyspark.sql.functions import col, asc, desc, regexp_replace\n",
    "\n",
    "\n",
    "spark = SparkSession.builder.getOrCreate()"
   ]
  },
  {
   "cell_type": "markdown",
   "id": "387a6950",
   "metadata": {},
   "source": [
    "### Task 1\n",
    "\n",
    "Narysuj wykres zależności kolumn Plot Infant mortality vs. Literacy dla 30 najbogatszych i 30 najbiedniejszych krajów"
   ]
  },
  {
   "cell_type": "code",
   "execution_count": 25,
   "id": "36ff7746",
   "metadata": {},
   "outputs": [
    {
     "data": {
      "text/plain": [
       "DataFrame[Country: string, Region: string, Population: int, Area (sq. mi.): int, Pop. Density (per sq. mi.): string, Coastline (coast/area ratio): string, Net migration: string, Infant mortality (per 1000 births): float, GDP ($ per capita): int, Literacy (%): float, Phones (per 1000): string, Arable (%): string, Crops (%): string, Other (%): string, Climate: string, Birthrate: string, Deathrate: string, Agriculture: string, Industry: string, Service: string]"
      ]
     },
     "execution_count": 25,
     "metadata": {},
     "output_type": "execute_result"
    }
   ],
   "source": [
    "countries = spark.read.csv('data/countries of the world.csv',header=True, inferSchema=\"true\")\n",
    "countries = countries.withColumn('Infant mortality (per 1000 births)', \n",
    "                                 regexp_replace('Infant mortality (per 1000 births)', '\\\\,', '\\\\.').cast(\"float\"))\n",
    "countries = countries.withColumn('Literacy (%)', regexp_replace('Literacy (%)', '\\\\,', '\\\\.').cast(\"float\"))\n",
    "\n",
    "countries"
   ]
  },
  {
   "cell_type": "code",
   "execution_count": 26,
   "id": "3e09bf2a",
   "metadata": {},
   "outputs": [
    {
     "data": {
      "text/plain": [
       "Row(Country='Afghanistan ', Region='ASIA (EX. NEAR EAST)         ', Population=31056997, Area (sq. mi.)=647500, Pop. Density (per sq. mi.)='48,0', Coastline (coast/area ratio)='0,00', Net migration='23,06', Infant mortality (per 1000 births)=163.07000732421875, GDP ($ per capita)=700, Literacy (%)=36.0, Phones (per 1000)='3,2', Arable (%)='12,13', Crops (%)='0,22', Other (%)='87,65', Climate='1', Birthrate='46,6', Deathrate='20,34', Agriculture='0,38', Industry='0,24', Service='0,38')"
      ]
     },
     "execution_count": 26,
     "metadata": {},
     "output_type": "execute_result"
    }
   ],
   "source": [
    "countries.head()"
   ]
  },
  {
   "cell_type": "code",
   "execution_count": 27,
   "id": "47c9cba2",
   "metadata": {},
   "outputs": [
    {
     "data": {
      "text/html": [
       "<div>\n",
       "<style scoped>\n",
       "    .dataframe tbody tr th:only-of-type {\n",
       "        vertical-align: middle;\n",
       "    }\n",
       "\n",
       "    .dataframe tbody tr th {\n",
       "        vertical-align: top;\n",
       "    }\n",
       "\n",
       "    .dataframe thead th {\n",
       "        text-align: right;\n",
       "    }\n",
       "</style>\n",
       "<table border=\"1\" class=\"dataframe\">\n",
       "  <thead>\n",
       "    <tr style=\"text-align: right;\">\n",
       "      <th></th>\n",
       "      <th>Country</th>\n",
       "      <th>Infant Mortality</th>\n",
       "      <th>Literacy</th>\n",
       "    </tr>\n",
       "  </thead>\n",
       "  <tbody>\n",
       "    <tr>\n",
       "      <th>0</th>\n",
       "      <td>Luxembourg</td>\n",
       "      <td>4.81</td>\n",
       "      <td>100.000000</td>\n",
       "    </tr>\n",
       "    <tr>\n",
       "      <th>1</th>\n",
       "      <td>Norway</td>\n",
       "      <td>3.70</td>\n",
       "      <td>100.000000</td>\n",
       "    </tr>\n",
       "    <tr>\n",
       "      <th>2</th>\n",
       "      <td>United States</td>\n",
       "      <td>6.50</td>\n",
       "      <td>97.000000</td>\n",
       "    </tr>\n",
       "    <tr>\n",
       "      <th>3</th>\n",
       "      <td>Bermuda</td>\n",
       "      <td>8.53</td>\n",
       "      <td>98.000000</td>\n",
       "    </tr>\n",
       "    <tr>\n",
       "      <th>4</th>\n",
       "      <td>Cayman Islands</td>\n",
       "      <td>8.19</td>\n",
       "      <td>98.000000</td>\n",
       "    </tr>\n",
       "    <tr>\n",
       "      <th>5</th>\n",
       "      <td>San Marino</td>\n",
       "      <td>5.73</td>\n",
       "      <td>96.000000</td>\n",
       "    </tr>\n",
       "    <tr>\n",
       "      <th>6</th>\n",
       "      <td>Switzerland</td>\n",
       "      <td>4.39</td>\n",
       "      <td>99.000000</td>\n",
       "    </tr>\n",
       "    <tr>\n",
       "      <th>7</th>\n",
       "      <td>Denmark</td>\n",
       "      <td>4.56</td>\n",
       "      <td>100.000000</td>\n",
       "    </tr>\n",
       "    <tr>\n",
       "      <th>8</th>\n",
       "      <td>Iceland</td>\n",
       "      <td>3.31</td>\n",
       "      <td>99.900002</td>\n",
       "    </tr>\n",
       "    <tr>\n",
       "      <th>9</th>\n",
       "      <td>Austria</td>\n",
       "      <td>4.66</td>\n",
       "      <td>98.000000</td>\n",
       "    </tr>\n",
       "    <tr>\n",
       "      <th>10</th>\n",
       "      <td>Canada</td>\n",
       "      <td>4.75</td>\n",
       "      <td>97.000000</td>\n",
       "    </tr>\n",
       "    <tr>\n",
       "      <th>11</th>\n",
       "      <td>Ireland</td>\n",
       "      <td>5.39</td>\n",
       "      <td>98.000000</td>\n",
       "    </tr>\n",
       "    <tr>\n",
       "      <th>12</th>\n",
       "      <td>Belgium</td>\n",
       "      <td>4.68</td>\n",
       "      <td>98.000000</td>\n",
       "    </tr>\n",
       "    <tr>\n",
       "      <th>13</th>\n",
       "      <td>Australia</td>\n",
       "      <td>4.69</td>\n",
       "      <td>100.000000</td>\n",
       "    </tr>\n",
       "    <tr>\n",
       "      <th>14</th>\n",
       "      <td>Hong Kong</td>\n",
       "      <td>2.97</td>\n",
       "      <td>93.500000</td>\n",
       "    </tr>\n",
       "    <tr>\n",
       "      <th>15</th>\n",
       "      <td>Netherlands</td>\n",
       "      <td>5.04</td>\n",
       "      <td>99.000000</td>\n",
       "    </tr>\n",
       "    <tr>\n",
       "      <th>16</th>\n",
       "      <td>Japan</td>\n",
       "      <td>3.26</td>\n",
       "      <td>99.000000</td>\n",
       "    </tr>\n",
       "    <tr>\n",
       "      <th>17</th>\n",
       "      <td>Aruba</td>\n",
       "      <td>5.89</td>\n",
       "      <td>97.000000</td>\n",
       "    </tr>\n",
       "    <tr>\n",
       "      <th>18</th>\n",
       "      <td>United Kingdom</td>\n",
       "      <td>5.16</td>\n",
       "      <td>99.000000</td>\n",
       "    </tr>\n",
       "    <tr>\n",
       "      <th>19</th>\n",
       "      <td>France</td>\n",
       "      <td>4.26</td>\n",
       "      <td>99.000000</td>\n",
       "    </tr>\n",
       "    <tr>\n",
       "      <th>20</th>\n",
       "      <td>Germany</td>\n",
       "      <td>4.16</td>\n",
       "      <td>99.000000</td>\n",
       "    </tr>\n",
       "    <tr>\n",
       "      <th>21</th>\n",
       "      <td>Finland</td>\n",
       "      <td>3.57</td>\n",
       "      <td>100.000000</td>\n",
       "    </tr>\n",
       "    <tr>\n",
       "      <th>22</th>\n",
       "      <td>Monaco</td>\n",
       "      <td>5.43</td>\n",
       "      <td>99.000000</td>\n",
       "    </tr>\n",
       "    <tr>\n",
       "      <th>23</th>\n",
       "      <td>Sweden</td>\n",
       "      <td>2.77</td>\n",
       "      <td>99.000000</td>\n",
       "    </tr>\n",
       "    <tr>\n",
       "      <th>24</th>\n",
       "      <td>Italy</td>\n",
       "      <td>5.94</td>\n",
       "      <td>98.599998</td>\n",
       "    </tr>\n",
       "    <tr>\n",
       "      <th>25</th>\n",
       "      <td>Liechtenstein</td>\n",
       "      <td>4.70</td>\n",
       "      <td>100.000000</td>\n",
       "    </tr>\n",
       "    <tr>\n",
       "      <th>26</th>\n",
       "      <td>Singapore</td>\n",
       "      <td>2.29</td>\n",
       "      <td>92.500000</td>\n",
       "    </tr>\n",
       "    <tr>\n",
       "      <th>27</th>\n",
       "      <td>Taiwan</td>\n",
       "      <td>6.40</td>\n",
       "      <td>96.099998</td>\n",
       "    </tr>\n",
       "    <tr>\n",
       "      <th>28</th>\n",
       "      <td>United Arab Emirates</td>\n",
       "      <td>14.51</td>\n",
       "      <td>77.900002</td>\n",
       "    </tr>\n",
       "    <tr>\n",
       "      <th>29</th>\n",
       "      <td>Spain</td>\n",
       "      <td>4.42</td>\n",
       "      <td>97.900002</td>\n",
       "    </tr>\n",
       "  </tbody>\n",
       "</table>\n",
       "</div>"
      ],
      "text/plain": [
       "                  Country  Infant Mortality    Literacy\n",
       "0             Luxembourg               4.81  100.000000\n",
       "1                 Norway               3.70  100.000000\n",
       "2          United States               6.50   97.000000\n",
       "3                Bermuda               8.53   98.000000\n",
       "4         Cayman Islands               8.19   98.000000\n",
       "5             San Marino               5.73   96.000000\n",
       "6            Switzerland               4.39   99.000000\n",
       "7                Denmark               4.56  100.000000\n",
       "8                Iceland               3.31   99.900002\n",
       "9                Austria               4.66   98.000000\n",
       "10                Canada               4.75   97.000000\n",
       "11               Ireland               5.39   98.000000\n",
       "12               Belgium               4.68   98.000000\n",
       "13             Australia               4.69  100.000000\n",
       "14             Hong Kong               2.97   93.500000\n",
       "15           Netherlands               5.04   99.000000\n",
       "16                 Japan               3.26   99.000000\n",
       "17                 Aruba               5.89   97.000000\n",
       "18        United Kingdom               5.16   99.000000\n",
       "19                France               4.26   99.000000\n",
       "20               Germany               4.16   99.000000\n",
       "21               Finland               3.57  100.000000\n",
       "22                Monaco               5.43   99.000000\n",
       "23                Sweden               2.77   99.000000\n",
       "24                 Italy               5.94   98.599998\n",
       "25         Liechtenstein               4.70  100.000000\n",
       "26             Singapore               2.29   92.500000\n",
       "27                Taiwan               6.40   96.099998\n",
       "28  United Arab Emirates              14.51   77.900002\n",
       "29                 Spain               4.42   97.900002"
      ]
     },
     "execution_count": 27,
     "metadata": {},
     "output_type": "execute_result"
    }
   ],
   "source": [
    "#countries#.withColumn(\"richness\", col(\"GDP ($ per capita)\")*col(\"Population\"))\\\n",
    "richest_countries = countries.sort(desc(\"GDP ($ per capita)\"))\\\n",
    "    .select(col(\"Country\"), col(\"Infant mortality (per 1000 births)\"), col(\"Literacy (%)\"))\\\n",
    "    .where(col(\"Literacy (%)\").isNotNull())\\\n",
    "    .head(30)\n",
    "\n",
    "df_richest = pd.DataFrame(richest_countries,columns=[\"Country\", \"Infant Mortality\", \"Literacy\"])\n",
    "\n",
    "df_richest"
   ]
  },
  {
   "cell_type": "code",
   "execution_count": 28,
   "id": "379383cb",
   "metadata": {},
   "outputs": [
    {
     "data": {
      "text/plain": [
       "<AxesSubplot:xlabel='Infant Mortality', ylabel='Literacy'>"
      ]
     },
     "execution_count": 28,
     "metadata": {},
     "output_type": "execute_result"
    },
    {
     "data": {
      "image/png": "[encoded data removed]",
      "text/plain": [
       "<Figure size 1080x504 with 1 Axes>"
      ]
     },
     "metadata": {
      "needs_background": "light"
     },
     "output_type": "display_data"
    }
   ],
   "source": [
    "df_richest.plot.scatter(x=\"Infant Mortality\", y=\"Literacy\",figsize=(15,7))"
   ]
  },
  {
   "cell_type": "code",
   "execution_count": null,
   "id": "1312b305",
   "metadata": {},
   "outputs": [],
   "source": []
  }
 ],
 "metadata": {
  "kernelspec": {
   "display_name": "Python 3 (ipykernel)",
   "language": "python",
   "name": "python3"
  },
  "language_info": {
   "codemirror_mode": {
    "name": "ipython",
    "version": 3
   },
   "file_extension": ".py",
   "mimetype": "text/x-python",
   "name": "python",
   "nbconvert_exporter": "python",
   "pygments_lexer": "ipython3",
   "version": "3.9.7"
  }
 },
 "nbformat": 4,
 "nbformat_minor": 5
}
