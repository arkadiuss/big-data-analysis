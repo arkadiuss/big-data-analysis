{
 "cells": [
  {
   "cell_type": "code",
   "execution_count": 2,
   "id": "51a968e9",
   "metadata": {},
   "outputs": [
    {
     "data": {
      "application/vnd.jupyter.widget-view+json": {
       "model_id": "3c03e03a8d2f43a8b567375931c9cfef",
       "version_major": 2,
       "version_minor": 0
      },
      "text/plain": [
       "VBox()"
      ]
     },
     "metadata": {},
     "output_type": "display_data"
    },
    {
     "data": {
      "application/vnd.jupyter.widget-view+json": {
       "model_id": "",
       "version_major": 2,
       "version_minor": 0
      },
      "text/plain": [
       "FloatProgress(value=0.0, bar_style='info', description='Progress:', layout=Layout(height='25px', width='50%'),…"
      ]
     },
     "metadata": {},
     "output_type": "display_data"
    }
   ],
   "source": [
    "from pyspark.sql import SparkSession, SQLContext\n",
    "from pyspark.conf import SparkConf\n",
    "spark = SparkSession.builder.getOrCreate()"
   ]
  },
  {
   "cell_type": "code",
   "execution_count": 44,
   "id": "79b850fc",
   "metadata": {},
   "outputs": [
    {
     "data": {
      "application/vnd.jupyter.widget-view+json": {
       "model_id": "1bcfbc6c320945b5949721cc86605cd1",
       "version_major": 2,
       "version_minor": 0
      },
      "text/plain": [
       "VBox()"
      ]
     },
     "metadata": {},
     "output_type": "display_data"
    },
    {
     "data": {
      "application/vnd.jupyter.widget-view+json": {
       "model_id": "",
       "version_major": 2,
       "version_minor": 0
      },
      "text/plain": [
       "FloatProgress(value=0.0, bar_style='info', description='Progress:', layout=Layout(height='25px', width='50%'),…"
      ]
     },
     "metadata": {},
     "output_type": "display_data"
    },
    {
     "name": "stdout",
     "output_type": "stream",
     "text": [
      "Collecting pandas==0.25.1\n",
      "  Downloading https://files.pythonhosted.org/packages/7e/ab/ea76361f9d3e732e114adcd801d2820d5319c23d0ac5482fa3b412db217e/pandas-0.25.1-cp37-cp37m-manylinux1_x86_64.whl (10.4MB)\n",
      "Requirement already satisfied: pytz>=2017.2 in /usr/local/lib/python3.7/site-packages (from pandas==0.25.1)\n",
      "Requirement already satisfied: numpy>=1.13.3 in /usr/local/lib64/python3.7/site-packages (from pandas==0.25.1)\n",
      "Collecting python-dateutil>=2.6.1 (from pandas==0.25.1)\n",
      "  Downloading https://files.pythonhosted.org/packages/36/7a/87837f39d0296e723bb9b62bbb257d0355c7f6128853c78955f57342a56d/python_dateutil-2.8.2-py2.py3-none-any.whl (247kB)\n",
      "Requirement already satisfied: six>=1.5 in /usr/local/lib/python3.7/site-packages (from python-dateutil>=2.6.1->pandas==0.25.1)\n",
      "Installing collected packages: python-dateutil, pandas\n",
      "Successfully installed pandas-0.25.1 python-dateutil-2.8.2"
     ]
    }
   ],
   "source": [
    "sc.install_pypi_package(\"pandas==0.25.1\")"
   ]
  },
  {
   "cell_type": "code",
   "execution_count": 58,
   "id": "bd3fe52b",
   "metadata": {},
   "outputs": [
    {
     "data": {
      "application/vnd.jupyter.widget-view+json": {
       "model_id": "0784f09430a94a64996a834d393d15d2",
       "version_major": 2,
       "version_minor": 0
      },
      "text/plain": [
       "VBox()"
      ]
     },
     "metadata": {},
     "output_type": "display_data"
    },
    {
     "data": {
      "application/vnd.jupyter.widget-view+json": {
       "model_id": "",
       "version_major": 2,
       "version_minor": 0
      },
      "text/plain": [
       "FloatProgress(value=0.0, bar_style='info', description='Progress:', layout=Layout(height='25px', width='50%'),…"
      ]
     },
     "metadata": {},
     "output_type": "display_data"
    },
    {
     "name": "stdout",
     "output_type": "stream",
     "text": [
      "Collecting matplotlib==3.1.1\n",
      "  Downloading https://files.pythonhosted.org/packages/19/7a/60bd79c5d79559150f8bba866dd7d434f0a170312e4d15e8aefa5faba294/matplotlib-3.1.1-cp37-cp37m-manylinux1_x86_64.whl (13.1MB)\n",
      "Requirement already satisfied: python-dateutil>=2.1 in /mnt/tmp/1636310542965-0/lib/python3.7/site-packages (from matplotlib==3.1.1)\n",
      "Requirement already satisfied: pyparsing!=2.0.4,!=2.1.2,!=2.1.6,>=2.0.1 in /mnt/tmp/1636310542965-0/lib/python3.7/site-packages (from matplotlib==3.1.1)\n",
      "Collecting cycler>=0.10 (from matplotlib==3.1.1)\n",
      "  Using cached https://files.pythonhosted.org/packages/5c/f9/695d6bedebd747e5eb0fe8fad57b72fdf25411273a39791cde838d5a8f51/cycler-0.11.0-py3-none-any.whl\n",
      "Requirement already satisfied: numpy>=1.11 in /usr/local/lib64/python3.7/site-packages (from matplotlib==3.1.1)\n",
      "Collecting kiwisolver>=1.0.1 (from matplotlib==3.1.1)\n",
      "  Using cached https://files.pythonhosted.org/packages/09/6b/6e567cb2e86d4e5939a9233f8734e26021b6a9c1bc4b1edccba236a84cc2/kiwisolver-1.3.2-cp37-cp37m-manylinux_2_5_x86_64.manylinux1_x86_64.whl\n",
      "Requirement already satisfied: six>=1.5 in /usr/local/lib/python3.7/site-packages (from python-dateutil>=2.1->matplotlib==3.1.1)\n",
      "Installing collected packages: cycler, kiwisolver, matplotlib\n",
      "Successfully installed cycler-0.11.0 kiwisolver-1.3.2 matplotlib-3.1.1"
     ]
    }
   ],
   "source": [
    "sc.install_pypi_package(\"matplotlib==3.1.1\")"
   ]
  },
  {
   "cell_type": "code",
   "execution_count": null,
   "id": "27552f1a",
   "metadata": {},
   "outputs": [],
   "source": []
  },
  {
   "cell_type": "code",
   "execution_count": 79,
   "id": "3f7d6177",
   "metadata": {},
   "outputs": [
    {
     "data": {
      "application/vnd.jupyter.widget-view+json": {
       "model_id": "3166aeb942e14185a7aa0fbfc85ff74c",
       "version_major": 2,
       "version_minor": 0
      },
      "text/plain": [
       "VBox()"
      ]
     },
     "metadata": {},
     "output_type": "display_data"
    },
    {
     "data": {
      "application/vnd.jupyter.widget-view+json": {
       "model_id": "",
       "version_major": 2,
       "version_minor": 0
      },
      "text/plain": [
       "FloatProgress(value=0.0, bar_style='info', description='Progress:', layout=Layout(height='25px', width='50%'),…"
      ]
     },
     "metadata": {},
     "output_type": "display_data"
    }
   ],
   "source": [
    "from pyspark.sql.functions import  avg, col, max\n",
    "import matplotlib.pyplot as plt"
   ]
  },
  {
   "cell_type": "markdown",
   "id": "c5ac3227",
   "metadata": {},
   "source": [
    "### Load data for a few days"
   ]
  },
  {
   "cell_type": "code",
   "execution_count": 170,
   "id": "9c98008e",
   "metadata": {},
   "outputs": [
    {
     "data": {
      "application/vnd.jupyter.widget-view+json": {
       "model_id": "eed4db1142ad4956b3bdd69f0c95ea94",
       "version_major": 2,
       "version_minor": 0
      },
      "text/plain": [
       "VBox()"
      ]
     },
     "metadata": {},
     "output_type": "display_data"
    },
    {
     "data": {
      "application/vnd.jupyter.widget-view+json": {
       "model_id": "",
       "version_major": 2,
       "version_minor": 0
      },
      "text/plain": [
       "FloatProgress(value=0.0, bar_style='info', description='Progress:', layout=Layout(height='25px', width='50%'),…"
      ]
     },
     "metadata": {},
     "output_type": "display_data"
    }
   ],
   "source": [
    "def parse_day(d): \n",
    "    return str(d) if d > 9 else f\"0{d}\"\n",
    "\n",
    "def load_days_range(m, d1, d2, y=2021):\n",
    "    smog_df = spark.read.json(f\"s3a://openaq-fetches/realtime/{y}-{parse_day(m)}-{parse_day(d1)}/*\")\n",
    "    for i in range(d1 + 1, d2 + 1):\n",
    "        smog_df_part = spark.read.json(f\"s3a://openaq-fetches/realtime/{y}-{parse_day(m)}-{parse_day(i)}/*\")\n",
    "        smog_df = smog_df.union(smog_df_part)\n",
    "    return smog_df\n",
    "\n",
    "def load_month(m, days=31, y=2021):    \n",
    "    return load_days_range(m,1,days)\n",
    "\n",
    "def load_year(y):    \n",
    "    smog_df = load_month(1,days=31, y=y)\n",
    "    mdays = [31,28,31,30,31,30,31,31,30,31,30,31]\n",
    "    for i in range(1,12):\n",
    "        smog_df = smog_df.union(load_month(i+1,days=mdays[i], y=y))\n",
    "    return smog_df"
   ]
  },
  {
   "cell_type": "code",
   "execution_count": 12,
   "id": "7d5cf357",
   "metadata": {},
   "outputs": [
    {
     "data": {
      "application/vnd.jupyter.widget-view+json": {
       "model_id": "3d373b73fc744a4482d0c6371338fc0f",
       "version_major": 2,
       "version_minor": 0
      },
      "text/plain": [
       "VBox()"
      ]
     },
     "metadata": {},
     "output_type": "display_data"
    },
    {
     "data": {
      "application/vnd.jupyter.widget-view+json": {
       "model_id": "",
       "version_major": 2,
       "version_minor": 0
      },
      "text/plain": [
       "FloatProgress(value=0.0, bar_style='info', description='Progress:', layout=Layout(height='25px', width='50%'),…"
      ]
     },
     "metadata": {},
     "output_type": "display_data"
    },
    {
     "name": "stderr",
     "output_type": "stream",
     "text": [
      "Path does not exist: s3a://openaq-fetches/realtime/2021-10/*;\n",
      "Traceback (most recent call last):\n",
      "  File \"<stdin>\", line 12, in load_month\n",
      "  File \"/usr/lib/spark/python/lib/pyspark.zip/pyspark/sql/readwriter.py\", line 300, in json\n",
      "    return self._df(self._jreader.json(self._spark._sc._jvm.PythonUtils.toSeq(path)))\n",
      "  File \"/usr/lib/spark/python/lib/py4j-0.10.9-src.zip/py4j/java_gateway.py\", line 1305, in __call__\n",
      "    answer, self.gateway_client, self.target_id, self.name)\n",
      "  File \"/usr/lib/spark/python/lib/pyspark.zip/pyspark/sql/utils.py\", line 137, in deco\n",
      "    raise_from(converted)\n",
      "  File \"<string>\", line 3, in raise_from\n",
      "pyspark.sql.utils.AnalysisException: Path does not exist: s3a://openaq-fetches/realtime/2021-10/*;\n",
      "\n"
     ]
    }
   ],
   "source": [
    "smog_df = load_days_range(11,1,6)"
   ]
  },
  {
   "cell_type": "code",
   "execution_count": 35,
   "id": "22824f13",
   "metadata": {},
   "outputs": [
    {
     "data": {
      "application/vnd.jupyter.widget-view+json": {
       "model_id": "6afd43760eb74417bd58ff1935312306",
       "version_major": 2,
       "version_minor": 0
      },
      "text/plain": [
       "VBox()"
      ]
     },
     "metadata": {},
     "output_type": "display_data"
    },
    {
     "data": {
      "application/vnd.jupyter.widget-view+json": {
       "model_id": "",
       "version_major": 2,
       "version_minor": 0
      },
      "text/plain": [
       "FloatProgress(value=0.0, bar_style='info', description='Progress:', layout=Layout(height='25px', width='50%'),…"
      ]
     },
     "metadata": {},
     "output_type": "display_data"
    }
   ],
   "source": [
    "smog_df_one_day = load_days_range(11,1,1)"
   ]
  },
  {
   "cell_type": "code",
   "execution_count": 144,
   "id": "0a089955",
   "metadata": {},
   "outputs": [
    {
     "data": {
      "application/vnd.jupyter.widget-view+json": {
       "model_id": "09bbd55915384cc285d310645e2987d3",
       "version_major": 2,
       "version_minor": 0
      },
      "text/plain": [
       "VBox()"
      ]
     },
     "metadata": {},
     "output_type": "display_data"
    },
    {
     "data": {
      "application/vnd.jupyter.widget-view+json": {
       "model_id": "",
       "version_major": 2,
       "version_minor": 0
      },
      "text/plain": [
       "FloatProgress(value=0.0, bar_style='info', description='Progress:', layout=Layout(height='25px', width='50%'),…"
      ]
     },
     "metadata": {},
     "output_type": "display_data"
    }
   ],
   "source": [
    "smog_df_month = load_month(10)"
   ]
  },
  {
   "cell_type": "code",
   "execution_count": 13,
   "id": "d5143b3f",
   "metadata": {},
   "outputs": [
    {
     "data": {
      "application/vnd.jupyter.widget-view+json": {
       "model_id": "5bd3a4b3ba6543ec929542fd5b119448",
       "version_major": 2,
       "version_minor": 0
      },
      "text/plain": [
       "VBox()"
      ]
     },
     "metadata": {},
     "output_type": "display_data"
    },
    {
     "data": {
      "application/vnd.jupyter.widget-view+json": {
       "model_id": "",
       "version_major": 2,
       "version_minor": 0
      },
      "text/plain": [
       "FloatProgress(value=0.0, bar_style='info', description='Progress:', layout=Layout(height='25px', width='50%'),…"
      ]
     },
     "metadata": {},
     "output_type": "display_data"
    },
    {
     "name": "stdout",
     "output_type": "stream",
     "text": [
      "root\n",
      " |-- attribution: array (nullable = true)\n",
      " |    |-- element: struct (containsNull = true)\n",
      " |    |    |-- name: string (nullable = true)\n",
      " |    |    |-- url: string (nullable = true)\n",
      " |-- averagingPeriod: struct (nullable = true)\n",
      " |    |-- unit: string (nullable = true)\n",
      " |    |-- value: double (nullable = true)\n",
      " |-- city: string (nullable = true)\n",
      " |-- coordinates: struct (nullable = true)\n",
      " |    |-- latitude: double (nullable = true)\n",
      " |    |-- longitude: double (nullable = true)\n",
      " |-- country: string (nullable = true)\n",
      " |-- date: struct (nullable = true)\n",
      " |    |-- local: string (nullable = true)\n",
      " |    |-- utc: string (nullable = true)\n",
      " |-- location: string (nullable = true)\n",
      " |-- mobile: boolean (nullable = true)\n",
      " |-- parameter: string (nullable = true)\n",
      " |-- sourceName: string (nullable = true)\n",
      " |-- sourceType: string (nullable = true)\n",
      " |-- unit: string (nullable = true)\n",
      " |-- value: double (nullable = true)"
     ]
    }
   ],
   "source": [
    "smog_df.printSchema()"
   ]
  },
  {
   "cell_type": "code",
   "execution_count": 50,
   "id": "bc6b9f68",
   "metadata": {},
   "outputs": [
    {
     "data": {
      "application/vnd.jupyter.widget-view+json": {
       "model_id": "7584e6f9084a4a0c853d717ea8564b10",
       "version_major": 2,
       "version_minor": 0
      },
      "text/plain": [
       "VBox()"
      ]
     },
     "metadata": {},
     "output_type": "display_data"
    },
    {
     "data": {
      "application/vnd.jupyter.widget-view+json": {
       "model_id": "",
       "version_major": 2,
       "version_minor": 0
      },
      "text/plain": [
       "FloatProgress(value=0.0, bar_style='info', description='Progress:', layout=Layout(height='25px', width='50%'),…"
      ]
     },
     "metadata": {},
     "output_type": "display_data"
    },
    {
     "name": "stdout",
     "output_type": "stream",
     "text": [
      "+--------------------+---------------+-----+--------------------+-------+--------------------+--------------------+------+---------+--------------+----------+-----+------+\n",
      "|         attribution|averagingPeriod| city|         coordinates|country|                date|            location|mobile|parameter|    sourceName|sourceType| unit| value|\n",
      "+--------------------+---------------+-----+--------------------+-------+--------------------+--------------------+------+---------+--------------+----------+-----+------+\n",
      "|[[EPA AirNow DOS,...|   [hours, 1.0]|Kabul|[34.535812, 69.19...|     AF|[2021-08-15T20:00...|US Diplomatic Pos...| false|     pm25|StateAir_Kabul|government|µg/m³|-999.0|\n",
      "|[[EPA AirNow DOS,...|   [hours, 1.0]|Kabul|[34.535812, 69.19...|     AF|[2021-08-15T21:00...|US Diplomatic Pos...| false|     pm25|StateAir_Kabul|government|µg/m³|-999.0|\n",
      "|[[EPA AirNow DOS,...|   [hours, 1.0]|Kabul|[34.535812, 69.19...|     AF|[2021-08-15T22:00...|US Diplomatic Pos...| false|     pm25|StateAir_Kabul|government|µg/m³|-999.0|\n",
      "|[[EPA AirNow DOS,...|   [hours, 1.0]|Kabul|[34.535812, 69.19...|     AF|[2021-08-15T23:00...|US Diplomatic Pos...| false|     pm25|StateAir_Kabul|government|µg/m³|-999.0|\n",
      "|[[EPA AirNow DOS,...|   [hours, 1.0]|Kabul|[34.535812, 69.19...|     AF|[2021-08-16T00:00...|US Diplomatic Pos...| false|     pm25|StateAir_Kabul|government|µg/m³|-999.0|\n",
      "|[[EPA AirNow DOS,...|   [hours, 1.0]|Kabul|[34.535812, 69.19...|     AF|[2021-08-16T01:00...|US Diplomatic Pos...| false|     pm25|StateAir_Kabul|government|µg/m³|-999.0|\n",
      "|[[EPA AirNow DOS,...|   [hours, 1.0]|Kabul|[34.535812, 69.19...|     AF|[2021-08-16T02:00...|US Diplomatic Pos...| false|     pm25|StateAir_Kabul|government|µg/m³|-999.0|\n",
      "|[[EPA AirNow DOS,...|   [hours, 1.0]|Kabul|[34.535812, 69.19...|     AF|[2021-08-16T03:00...|US Diplomatic Pos...| false|     pm25|StateAir_Kabul|government|µg/m³|-999.0|\n",
      "|[[EPA AirNow DOS,...|   [hours, 1.0]|Kabul|[34.535812, 69.19...|     AF|[2021-08-16T04:00...|US Diplomatic Pos...| false|     pm25|StateAir_Kabul|government|µg/m³|-999.0|\n",
      "|[[EPA AirNow DOS,...|   [hours, 1.0]|Kabul|[34.535812, 69.19...|     AF|[2021-08-16T05:00...|US Diplomatic Pos...| false|     pm25|StateAir_Kabul|government|µg/m³|-999.0|\n",
      "|[[EPA AirNow DOS,...|   [hours, 1.0]|Kabul|[34.535812, 69.19...|     AF|[2021-08-16T06:00...|US Diplomatic Pos...| false|     pm25|StateAir_Kabul|government|µg/m³|-999.0|\n",
      "|[[EPA AirNow DOS,...|   [hours, 1.0]|Kabul|[34.535812, 69.19...|     AF|[2021-08-16T07:00...|US Diplomatic Pos...| false|     pm25|StateAir_Kabul|government|µg/m³|-999.0|\n",
      "|[[EPA AirNow DOS,...|   [hours, 1.0]|Kabul|[34.535812, 69.19...|     AF|[2021-08-16T08:00...|US Diplomatic Pos...| false|     pm25|StateAir_Kabul|government|µg/m³|-999.0|\n",
      "|[[EPA AirNow DOS,...|   [hours, 1.0]|Kabul|[34.535812, 69.19...|     AF|[2021-08-16T09:00...|US Diplomatic Pos...| false|     pm25|StateAir_Kabul|government|µg/m³|-999.0|\n",
      "|[[EPA AirNow DOS,...|   [hours, 1.0]|Kabul|[34.535812, 69.19...|     AF|[2021-08-16T10:00...|US Diplomatic Pos...| false|     pm25|StateAir_Kabul|government|µg/m³|-999.0|\n",
      "|[[EPA AirNow DOS,...|   [hours, 1.0]|Kabul|[34.535812, 69.19...|     AF|[2021-08-16T11:00...|US Diplomatic Pos...| false|     pm25|StateAir_Kabul|government|µg/m³|-999.0|\n",
      "|[[EPA AirNow DOS,...|   [hours, 1.0]|Kabul|[34.535812, 69.19...|     AF|[2021-08-16T12:00...|US Diplomatic Pos...| false|     pm25|StateAir_Kabul|government|µg/m³|-999.0|\n",
      "|[[EPA AirNow DOS,...|   [hours, 1.0]|Kabul|[34.535812, 69.19...|     AF|[2021-08-16T13:00...|US Diplomatic Pos...| false|     pm25|StateAir_Kabul|government|µg/m³|-999.0|\n",
      "|[[EPA AirNow DOS,...|   [hours, 1.0]|Kabul|[34.535812, 69.19...|     AF|[2021-08-16T14:00...|US Diplomatic Pos...| false|     pm25|StateAir_Kabul|government|µg/m³|-999.0|\n",
      "|[[EPA AirNow DOS,...|   [hours, 1.0]|Kabul|[34.535812, 69.19...|     AF|[2021-08-16T15:00...|US Diplomatic Pos...| false|     pm25|StateAir_Kabul|government|µg/m³|-999.0|\n",
      "+--------------------+---------------+-----+--------------------+-------+--------------------+--------------------+------+---------+--------------+----------+-----+------+\n",
      "only showing top 20 rows"
     ]
    }
   ],
   "source": [
    "smog_df.show()"
   ]
  },
  {
   "cell_type": "markdown",
   "id": "ab266914",
   "metadata": {},
   "source": [
    "### Task 1\n",
    "Znajdź miasta w Polsce, w których średnie stężenie pyłu “pm10” było niższe niż maksymalne stężenie w Berlinie (w całym badanym okresie). Obliczenia wykonaj dla danych z kilku dni. Wyniki posortuj malejąco po stężeniu pm10."
   ]
  },
  {
   "cell_type": "code",
   "execution_count": 47,
   "id": "da9b349d",
   "metadata": {},
   "outputs": [
    {
     "data": {
      "application/vnd.jupyter.widget-view+json": {
       "model_id": "ce6173320e3b416da0e6087f9a5d41e4",
       "version_major": 2,
       "version_minor": 0
      },
      "text/plain": [
       "VBox()"
      ]
     },
     "metadata": {},
     "output_type": "display_data"
    },
    {
     "data": {
      "application/vnd.jupyter.widget-view+json": {
       "model_id": "",
       "version_major": 2,
       "version_minor": 0
      },
      "text/plain": [
       "FloatProgress(value=0.0, bar_style='info', description='Progress:', layout=Layout(height='25px', width='50%'),…"
      ]
     },
     "metadata": {},
     "output_type": "display_data"
    }
   ],
   "source": [
    "def task1_avg_pm10_smaller_than_in_berlin(df):\n",
    "    berlin_max = df[(df.parameter == \"pm10\") & (df.city == \"Berlin\")].agg({\"value\": \"max\"}).collect()[0][0]\n",
    "    print(berlin_max)\n",
    "    polish_avg = df[(df.country == \"PL\") & (df.parameter == \"pm10\")]\\\n",
    "        .groupby(\"city\")\\\n",
    "        .agg(avg(\"value\").alias(\"avg_pm10\"))\\\n",
    "        .filter(col(\"avg_pm10\") > berlin_max)\\\n",
    "        .orderBy(col(\"avg_pm10\"))\n",
    "    return polish_avg.toPandas()"
   ]
  },
  {
   "cell_type": "code",
   "execution_count": 48,
   "id": "5b0b56ef",
   "metadata": {},
   "outputs": [
    {
     "data": {
      "application/vnd.jupyter.widget-view+json": {
       "model_id": "ca6a63d1cb8d481d944ae3fa8e4a4edc",
       "version_major": 2,
       "version_minor": 0
      },
      "text/plain": [
       "VBox()"
      ]
     },
     "metadata": {},
     "output_type": "display_data"
    },
    {
     "data": {
      "application/vnd.jupyter.widget-view+json": {
       "model_id": "",
       "version_major": 2,
       "version_minor": 0
      },
      "text/plain": [
       "FloatProgress(value=0.0, bar_style='info', description='Progress:', layout=Layout(height='25px', width='50%'),…"
      ]
     },
     "metadata": {},
     "output_type": "display_data"
    },
    {
     "name": "stdout",
     "output_type": "stream",
     "text": [
      "35.02\n",
      "                city   avg_pm10\n",
      "0  Nakło nad Notecią  35.754696\n",
      "1    Sucha Beskidzka  37.016603\n",
      "2     Janów Lubelski  37.138293\n",
      "3          Grudziądz  37.766284"
     ]
    }
   ],
   "source": [
    "task1_avg_pm10_smaller_than_in_berlin(smog_df)"
   ]
  },
  {
   "cell_type": "markdown",
   "id": "2c84f77e",
   "metadata": {},
   "source": [
    "### Task 2\n",
    "Dla danych z wybranych kilku dni przedstaw w ujęciu godzinowym (wybierz czas UTC) najwyższe zanotowane stężenie pm25 w poszczególnych miastach z całego zbioru danych. Wyniki posortuj po rosnąco datach."
   ]
  },
  {
   "cell_type": "code",
   "execution_count": 112,
   "id": "13a3f72f",
   "metadata": {},
   "outputs": [
    {
     "data": {
      "application/vnd.jupyter.widget-view+json": {
       "model_id": "88bb2e2382b841efabeb6f37de334804",
       "version_major": 2,
       "version_minor": 0
      },
      "text/plain": [
       "VBox()"
      ]
     },
     "metadata": {},
     "output_type": "display_data"
    },
    {
     "data": {
      "application/vnd.jupyter.widget-view+json": {
       "model_id": "",
       "version_major": 2,
       "version_minor": 0
      },
      "text/plain": [
       "FloatProgress(value=0.0, bar_style='info', description='Progress:', layout=Layout(height='25px', width='50%'),…"
      ]
     },
     "metadata": {},
     "output_type": "display_data"
    }
   ],
   "source": [
    "def task2_max_pm25_by_date_city(df):\n",
    "    data = df[df.parameter == \"pm25\"]\\\n",
    "        .filter((col(\"date.UTC\") >= \"2021-11-01T00:00:00.000Z\") & (col(\"date.UTC\") <= \"2021-11-06T24:00:00.000Z\"))\\\n",
    "        .groupby(\"date.UTC\", \"city\")\\\n",
    "        .agg(max(\"value\"))\\\n",
    "        .orderBy(\"UTC\")\n",
    "    return data.toPandas()\n",
    "\n",
    "def task2_max_pm25_by_date(df):\n",
    "    data = df[df.parameter == \"pm25\"]\\\n",
    "        .filter((col(\"date.UTC\") >= \"2021-11-01T00:00:00.000Z\") & (col(\"date.UTC\") <= \"2021-11-06T24:00:00.000Z\"))\\\n",
    "        .groupby(\"date.UTC\")\\\n",
    "        .agg(max(\"value\"))\\\n",
    "        .orderBy(\"UTC\")\n",
    "    return data.toPandas()"
   ]
  },
  {
   "cell_type": "code",
   "execution_count": 115,
   "id": "170f9683",
   "metadata": {},
   "outputs": [
    {
     "data": {
      "application/vnd.jupyter.widget-view+json": {
       "model_id": "c4c28bb7ae974832a15f16506906f24c",
       "version_major": 2,
       "version_minor": 0
      },
      "text/plain": [
       "VBox()"
      ]
     },
     "metadata": {},
     "output_type": "display_data"
    },
    {
     "data": {
      "application/vnd.jupyter.widget-view+json": {
       "model_id": "",
       "version_major": 2,
       "version_minor": 0
      },
      "text/plain": [
       "FloatProgress(value=0.0, bar_style='info', description='Progress:', layout=Layout(height='25px', width='50%'),…"
      ]
     },
     "metadata": {},
     "output_type": "display_data"
    },
    {
     "name": "stdout",
     "output_type": "stream",
     "text": [
      "                             UTC              city  max(value)\n",
      "0       2021-11-01T00:00:00.000Z            Newham   12.000000\n",
      "1       2021-11-01T00:00:00.000Z           Baghdad   63.000000\n",
      "2       2021-11-01T00:00:00.000Z        Burgenland   39.154999\n",
      "3       2021-11-01T00:00:00.000Z             Rhône    4.100000\n",
      "4       2021-11-01T00:00:00.000Z  Basel-Landschaft    5.214900\n",
      "...                          ...               ...         ...\n",
      "192488  2021-11-06T23:30:00.000Z          Shillong    7.180000\n",
      "192489  2021-11-06T23:45:00.000Z           Talcher   49.450000\n",
      "192490  2021-11-06T23:45:00.000Z             Noida  304.760000\n",
      "192491  2021-11-06T23:45:00.000Z             Delhi  337.980000\n",
      "192492  2021-11-06T23:45:00.000Z           Raichur   40.000000\n",
      "\n",
      "[192493 rows x 3 columns]"
     ]
    }
   ],
   "source": [
    "result_city = task2_max_pm25_by_date_city(smog_df)\n",
    "result_city"
   ]
  },
  {
   "cell_type": "code",
   "execution_count": 125,
   "id": "7bf79423",
   "metadata": {},
   "outputs": [
    {
     "data": {
      "application/vnd.jupyter.widget-view+json": {
       "model_id": "af9f80f06a664208949d5193283a872e",
       "version_major": 2,
       "version_minor": 0
      },
      "text/plain": [
       "VBox()"
      ]
     },
     "metadata": {},
     "output_type": "display_data"
    },
    {
     "data": {
      "application/vnd.jupyter.widget-view+json": {
       "model_id": "",
       "version_major": 2,
       "version_minor": 0
      },
      "text/plain": [
       "FloatProgress(value=0.0, bar_style='info', description='Progress:', layout=Layout(height='25px', width='50%'),…"
      ]
     },
     "metadata": {},
     "output_type": "display_data"
    },
    {
     "data": {
      "image/png": "[encoded data removed]",
      "text/plain": [
       "<IPython.core.display.Image object>"
      ]
     },
     "metadata": {},
     "output_type": "display_data"
    }
   ],
   "source": [
    "cities = result_city['city'].unique()[20:30]\n",
    "plt.clf() \n",
    "for city in cities:\n",
    "    df = result_city[result_city.city == city].sort_values(by=['UTC'])\n",
    "    print(df)\n",
    "    plt.plot(df[\"UTC\"], df[\"max(value)\"])\n",
    "plt.show()\n",
    "%matplot plt"
   ]
  },
  {
   "cell_type": "code",
   "execution_count": 116,
   "id": "f9508ae6",
   "metadata": {},
   "outputs": [
    {
     "data": {
      "application/vnd.jupyter.widget-view+json": {
       "model_id": "5d3649b89071405ebee8d3bb24f8d587",
       "version_major": 2,
       "version_minor": 0
      },
      "text/plain": [
       "VBox()"
      ]
     },
     "metadata": {},
     "output_type": "display_data"
    },
    {
     "data": {
      "application/vnd.jupyter.widget-view+json": {
       "model_id": "",
       "version_major": 2,
       "version_minor": 0
      },
      "text/plain": [
       "FloatProgress(value=0.0, bar_style='info', description='Progress:', layout=Layout(height='25px', width='50%'),…"
      ]
     },
     "metadata": {},
     "output_type": "display_data"
    },
    {
     "name": "stdout",
     "output_type": "stream",
     "text": [
      "                           UTC  max(value)\n",
      "0     2021-11-01T00:00:00.000Z     1000.00\n",
      "1     2021-11-01T00:00:05.000Z        0.00\n",
      "2     2021-11-01T00:00:06.000Z        4.00\n",
      "3     2021-11-01T00:00:07.000Z       21.00\n",
      "4     2021-11-01T00:00:08.000Z        0.00\n",
      "...                        ...         ...\n",
      "8626  2021-11-06T22:45:00.000Z     1074.30\n",
      "8627  2021-11-06T23:00:00.000Z      703.00\n",
      "8628  2021-11-06T23:15:00.000Z     1074.30\n",
      "8629  2021-11-06T23:30:00.000Z      718.00\n",
      "8630  2021-11-06T23:45:00.000Z      337.98\n",
      "\n",
      "[8631 rows x 2 columns]"
     ]
    }
   ],
   "source": [
    "result = task2_max_pm25_by_date(smog_df)\n",
    "result"
   ]
  },
  {
   "cell_type": "code",
   "execution_count": 134,
   "id": "af6c68ce",
   "metadata": {},
   "outputs": [
    {
     "data": {
      "application/vnd.jupyter.widget-view+json": {
       "model_id": "a3f9aee0bfbd4ec18f3f2be3ecbcbfa4",
       "version_major": 2,
       "version_minor": 0
      },
      "text/plain": [
       "VBox()"
      ]
     },
     "metadata": {},
     "output_type": "display_data"
    },
    {
     "data": {
      "application/vnd.jupyter.widget-view+json": {
       "model_id": "",
       "version_major": 2,
       "version_minor": 0
      },
      "text/plain": [
       "FloatProgress(value=0.0, bar_style='info', description='Progress:', layout=Layout(height='25px', width='50%'),…"
      ]
     },
     "metadata": {},
     "output_type": "display_data"
    },
    {
     "data": {
      "image/png": "[encoded data removed]",
      "text/plain": [
       "<IPython.core.display.Image object>"
      ]
     },
     "metadata": {},
     "output_type": "display_data"
    }
   ],
   "source": [
    "plt.clf()\n",
    "result.plot(x=\"UTC\", y=\"max(value)\")\n",
    "plt.xticks(rotation=45)\n",
    "%matplot plt"
   ]
  },
  {
   "cell_type": "markdown",
   "id": "479457da",
   "metadata": {},
   "source": [
    "### Task 3\n",
    "Znajdź ranking miast pod względem średniego zanieczyszczenia liczonego dla N najwyższych pomiarów pod względem “pm25” dla danych z kilku dni. Rozważ jedynie miasta, których nazwy składają się z małych i dużych liter alfabetu łacińskiego.\n",
    "Podpowiedź: Wykorzystaj window functions oraz `rlike`"
   ]
  },
  {
   "cell_type": "code",
   "execution_count": 141,
   "id": "34abd8bd",
   "metadata": {},
   "outputs": [
    {
     "data": {
      "application/vnd.jupyter.widget-view+json": {
       "model_id": "899391e62da546aaa7d8c9f30b37f1cd",
       "version_major": 2,
       "version_minor": 0
      },
      "text/plain": [
       "VBox()"
      ]
     },
     "metadata": {},
     "output_type": "display_data"
    },
    {
     "data": {
      "application/vnd.jupyter.widget-view+json": {
       "model_id": "",
       "version_major": 2,
       "version_minor": 0
      },
      "text/plain": [
       "FloatProgress(value=0.0, bar_style='info', description='Progress:', layout=Layout(height='25px', width='50%'),…"
      ]
     },
     "metadata": {},
     "output_type": "display_data"
    }
   ],
   "source": [
    "from pyspark.sql.window import Window\n",
    "window = Window.partitionBy(col('city')).orderBy(col('value').desc())\n",
    "\n",
    "def task3_avg_greatest(df, n=30):\n",
    "    return df.select('country','city', 'parameter', 'value', 'date')\\\n",
    "        .filter(col('city').rlike(\"([A-Za-z])+\"))\\\n",
    "        .filter(col('parameter')=='pm25')\\\n",
    "        .filter(col('value')>0.0)\\\n",
    "        .withColumn('rank', rank().over(window))\\\n",
    "        .filter(col('rank') <= n)\\\n",
    "        .groupBy('city').agg(avg('value'))\\\n",
    "        .sort(col('avg(value)').asc())\\\n",
    "        .toPandas()"
   ]
  },
  {
   "cell_type": "code",
   "execution_count": 142,
   "id": "649ff1be",
   "metadata": {},
   "outputs": [
    {
     "data": {
      "application/vnd.jupyter.widget-view+json": {
       "model_id": "4180e9fa0cb84fa09bb2a556fe16eea1",
       "version_major": 2,
       "version_minor": 0
      },
      "text/plain": [
       "VBox()"
      ]
     },
     "metadata": {},
     "output_type": "display_data"
    },
    {
     "data": {
      "application/vnd.jupyter.widget-view+json": {
       "model_id": "",
       "version_major": 2,
       "version_minor": 0
      },
      "text/plain": [
       "FloatProgress(value=0.0, bar_style='info', description='Progress:', layout=Layout(height='25px', width='50%'),…"
      ]
     },
     "metadata": {},
     "output_type": "display_data"
    },
    {
     "name": "stdout",
     "output_type": "stream",
     "text": [
      "             city   avg(value)\n",
      "0      Luxembourg     0.359500\n",
      "1        Jämtland     0.416667\n",
      "2        Overberg     0.883000\n",
      "3     Haute-Corse     0.903030\n",
      "4           Namur     0.921500\n",
      "...           ...          ...\n",
      "1258        Dhaka   359.000000\n",
      "1259    N'Djamena   365.000000\n",
      "1260   Davanagere   739.379286\n",
      "1261        Cádiz  1000.000000\n",
      "1262    Ahmedabad  2589.736000\n",
      "\n",
      "[1263 rows x 2 columns]"
     ]
    }
   ],
   "source": [
    "task3_avg_greatest(smog_df_one_day)"
   ]
  },
  {
   "cell_type": "markdown",
   "id": "a26b69e2",
   "metadata": {},
   "source": [
    "### Task 4\n",
    "Zwizualizuj na mapie średnie zanieczyszczenie w danym kraju dla wybranych kilku dni względem czasu (mapa + slider czasu albo zbiór klatek i animacja) dla wybranych państw."
   ]
  },
  {
   "cell_type": "code",
   "execution_count": null,
   "id": "7b35b6ad",
   "metadata": {},
   "outputs": [],
   "source": []
  },
  {
   "cell_type": "markdown",
   "id": "d394425f",
   "metadata": {},
   "source": [
    "### Task 5\n",
    "Korzystanie z klastra dla dużych danych:\n",
    "1. Proszę wykonać zadanie 1 dla danych z całego miesiąca. Zmierzyć czas wykonania\n",
    "2. Zwiększyć klaster do 2, 3, 4, 5, 6, 7 instancji workerów i zmierzyć czasy wykonania\n",
    "3. Narysować wykresy czasu, przyspieszenia i efektywności (time, speedup, efficiency)"
   ]
  },
  {
   "cell_type": "code",
   "execution_count": 149,
   "id": "fa076c77",
   "metadata": {},
   "outputs": [
    {
     "data": {
      "application/vnd.jupyter.widget-view+json": {
       "model_id": "0ded21226cfb4461aae605976198928d",
       "version_major": 2,
       "version_minor": 0
      },
      "text/plain": [
       "VBox()"
      ]
     },
     "metadata": {},
     "output_type": "display_data"
    },
    {
     "data": {
      "application/vnd.jupyter.widget-view+json": {
       "model_id": "",
       "version_major": 2,
       "version_minor": 0
      },
      "text/plain": [
       "FloatProgress(value=0.0, bar_style='info', description='Progress:', layout=Layout(height='25px', width='50%'),…"
      ]
     },
     "metadata": {},
     "output_type": "display_data"
    }
   ],
   "source": [
    "import time\n",
    "\n",
    "def check_time():\n",
    "    start = time.time()\n",
    "    task1_avg_pm10_smaller_than_in_berlin(smog_df_month)\n",
    "    end = time.time()\n",
    "    return end-start"
   ]
  },
  {
   "cell_type": "code",
   "execution_count": 171,
   "id": "ef595d8c",
   "metadata": {},
   "outputs": [
    {
     "data": {
      "application/vnd.jupyter.widget-view+json": {
       "model_id": "b3b01835dfac4245b8d0d0d2fa514c4c",
       "version_major": 2,
       "version_minor": 0
      },
      "text/plain": [
       "VBox()"
      ]
     },
     "metadata": {},
     "output_type": "display_data"
    },
    {
     "data": {
      "application/vnd.jupyter.widget-view+json": {
       "model_id": "",
       "version_major": 2,
       "version_minor": 0
      },
      "text/plain": [
       "FloatProgress(value=0.0, bar_style='info', description='Progress:', layout=Layout(height='25px', width='50%'),…"
      ]
     },
     "metadata": {},
     "output_type": "display_data"
    },
    {
     "name": "stdout",
     "output_type": "stream",
     "text": [
      "54.85\n",
      "221.59289240837097"
     ]
    }
   ],
   "source": [
    "check_time()"
   ]
  },
  {
   "cell_type": "code",
   "execution_count": null,
   "id": "2342d1c4",
   "metadata": {},
   "outputs": [],
   "source": [
    "#n=2\n",
    "#54.85\n",
    "#490.4540560245514\n",
    "#n=3\n",
    "# 54.85\n",
    "# 304.3723542690277\n",
    "# n=4\n",
    "# 54.85\n",
    "# 264.7867474555969\n",
    "# n=5\n",
    "# 54.85\n",
    "# 221.59289240837097"
   ]
  },
  {
   "cell_type": "code",
   "execution_count": 167,
   "id": "ce11efd9",
   "metadata": {},
   "outputs": [
    {
     "data": {
      "application/vnd.jupyter.widget-view+json": {
       "model_id": "d47a26a804324eb0b8871d1096ba8e4d",
       "version_major": 2,
       "version_minor": 0
      },
      "text/plain": [
       "VBox()"
      ]
     },
     "metadata": {},
     "output_type": "display_data"
    },
    {
     "data": {
      "application/vnd.jupyter.widget-view+json": {
       "model_id": "",
       "version_major": 2,
       "version_minor": 0
      },
      "text/plain": [
       "FloatProgress(value=0.0, bar_style='info', description='Progress:', layout=Layout(height='25px', width='50%'),…"
      ]
     },
     "metadata": {},
     "output_type": "display_data"
    },
    {
     "name": "stdout",
     "output_type": "stream",
     "text": [
      "   cluster_size        time\n",
      "0             1    4.900000\n",
      "1             2  490.454056\n",
      "2             3    3.500000\n",
      "3             4    2.400000\n",
      "4             5    2.100000\n",
      "5             6    1.500000\n",
      "6             7    1.000000"
     ]
    }
   ],
   "source": [
    "import pandas as pd\n",
    "\n",
    "# df_times = pd.DataFrame(data=[[1, 4.9], [2, 4.5], [3, 3.5] [4, 2.4], [5, 2.1], [6, 1.5]], columns=[\"cluster_size\", \"time\"])\n",
    "df_times = pd.DataFrame({'cluster_size': [1,2,3,4,5,6,7], 'time': [4.9, 490.4540560245514, 304.3723542690277, 264.7867474555969, 221.59289240837097, 1.5, 1.0]})\n",
    "df_times"
   ]
  },
  {
   "cell_type": "code",
   "execution_count": 163,
   "id": "00f34ae8",
   "metadata": {},
   "outputs": [
    {
     "data": {
      "application/vnd.jupyter.widget-view+json": {
       "model_id": "ac6a38fd10df4c93888a1ae99e814f09",
       "version_major": 2,
       "version_minor": 0
      },
      "text/plain": [
       "VBox()"
      ]
     },
     "metadata": {},
     "output_type": "display_data"
    },
    {
     "data": {
      "application/vnd.jupyter.widget-view+json": {
       "model_id": "",
       "version_major": 2,
       "version_minor": 0
      },
      "text/plain": [
       "FloatProgress(value=0.0, bar_style='info', description='Progress:', layout=Layout(height='25px', width='50%'),…"
      ]
     },
     "metadata": {},
     "output_type": "display_data"
    },
    {
     "name": "stdout",
     "output_type": "stream",
     "text": [
      "   cluster_size  time   speedup  efficiency\n",
      "0             1   4.9  1.000000    1.000000\n",
      "1             2   4.5  1.088889    0.544444\n",
      "2             3   3.5  1.400000    0.466667\n",
      "3             4   2.4  2.041667    0.510417\n",
      "4             5   2.1  2.333333    0.466667\n",
      "5             6   1.5  3.266667    0.544444\n",
      "6             7   1.0  4.900000    0.700000"
     ]
    }
   ],
   "source": [
    "df_times[\"speedup\"] = df_times[\"time\"][0] / df_times[\"time\"]\n",
    "df_times[\"efficiency\"] = df_times[\"speedup\"]/df_times[\"cluster_size\"]\n",
    "df_times"
   ]
  },
  {
   "cell_type": "code",
   "execution_count": 164,
   "id": "14b14876",
   "metadata": {},
   "outputs": [
    {
     "data": {
      "application/vnd.jupyter.widget-view+json": {
       "model_id": "603bd26e397840a58399186ce053ecd9",
       "version_major": 2,
       "version_minor": 0
      },
      "text/plain": [
       "VBox()"
      ]
     },
     "metadata": {},
     "output_type": "display_data"
    },
    {
     "data": {
      "application/vnd.jupyter.widget-view+json": {
       "model_id": "",
       "version_major": 2,
       "version_minor": 0
      },
      "text/plain": [
       "FloatProgress(value=0.0, bar_style='info', description='Progress:', layout=Layout(height='25px', width='50%'),…"
      ]
     },
     "metadata": {},
     "output_type": "display_data"
    },
    {
     "data": {
      "image/png": "[encoded data removed]",
      "text/plain": [
       "<IPython.core.display.Image object>"
      ]
     },
     "metadata": {},
     "output_type": "display_data"
    }
   ],
   "source": [
    "plt.clf()\n",
    "df_times.plot.scatter(x=\"cluster_size\", y=\"time\")\n",
    "%matplot plt"
   ]
  },
  {
   "cell_type": "code",
   "execution_count": 165,
   "id": "3cc33136",
   "metadata": {},
   "outputs": [
    {
     "data": {
      "application/vnd.jupyter.widget-view+json": {
       "model_id": "022a1bdf8f84472380ef70dc1ed3aae3",
       "version_major": 2,
       "version_minor": 0
      },
      "text/plain": [
       "VBox()"
      ]
     },
     "metadata": {},
     "output_type": "display_data"
    },
    {
     "data": {
      "application/vnd.jupyter.widget-view+json": {
       "model_id": "",
       "version_major": 2,
       "version_minor": 0
      },
      "text/plain": [
       "FloatProgress(value=0.0, bar_style='info', description='Progress:', layout=Layout(height='25px', width='50%'),…"
      ]
     },
     "metadata": {},
     "output_type": "display_data"
    },
    {
     "data": {
      "image/png": "[encoded data removed]",
      "text/plain": [
       "<IPython.core.display.Image object>"
      ]
     },
     "metadata": {},
     "output_type": "display_data"
    }
   ],
   "source": [
    "plt.clf()\n",
    "df_times.plot.scatter(x=\"cluster_size\", y=\"speedup\")\n",
    "%matplot plt"
   ]
  },
  {
   "cell_type": "code",
   "execution_count": 166,
   "id": "f0d1ae0e",
   "metadata": {},
   "outputs": [
    {
     "data": {
      "application/vnd.jupyter.widget-view+json": {
       "model_id": "1a17a3d26cb74bdb80d6fff0a24c93ac",
       "version_major": 2,
       "version_minor": 0
      },
      "text/plain": [
       "VBox()"
      ]
     },
     "metadata": {},
     "output_type": "display_data"
    },
    {
     "data": {
      "application/vnd.jupyter.widget-view+json": {
       "model_id": "",
       "version_major": 2,
       "version_minor": 0
      },
      "text/plain": [
       "FloatProgress(value=0.0, bar_style='info', description='Progress:', layout=Layout(height='25px', width='50%'),…"
      ]
     },
     "metadata": {},
     "output_type": "display_data"
    },
    {
     "data": {
      "image/png": "[encoded data removed]",
      "text/plain": [
       "<IPython.core.display.Image object>"
      ]
     },
     "metadata": {},
     "output_type": "display_data"
    }
   ],
   "source": [
    "plt.clf()\n",
    "df_times.plot.scatter(x=\"cluster_size\", y=\"efficiency\")\n",
    "%matplot plt"
   ]
  },
  {
   "cell_type": "markdown",
   "id": "4622867d",
   "metadata": {},
   "source": [
    "### Task 6\n",
    "Proszę wykonać przykładowe zapytanie dla danych z całego roku 2020. Załączyć wybrane wykresy ze Spark UI (https://spark.apache.org/docs/latest/web-ui.html), np. DAG, diagram Gantta, informacje o rozmiarach danych."
   ]
  },
  {
   "cell_type": "code",
   "execution_count": null,
   "id": "89547df7",
   "metadata": {},
   "outputs": [],
   "source": [
    "smog_df_year = load_year(2020)"
   ]
  }
 ],
 "metadata": {
  "kernelspec": {
   "display_name": "PySpark",
   "language": "",
   "name": "pysparkkernel"
  },
  "language_info": {
   "codemirror_mode": {
    "name": "python",
    "version": 2
   },
   "mimetype": "text/x-python",
   "name": "pyspark",
   "pygments_lexer": "python2"
  }
 },
 "nbformat": 4,
 "nbformat_minor": 5
}
